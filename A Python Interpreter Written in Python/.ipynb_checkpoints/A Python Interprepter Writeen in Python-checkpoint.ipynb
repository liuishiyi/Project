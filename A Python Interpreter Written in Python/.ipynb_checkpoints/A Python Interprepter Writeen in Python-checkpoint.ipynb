{
 "cells": [
  {
   "cell_type": "markdown",
   "metadata": {},
   "source": [
    "[A Python Interpreter Written in Python](http://aosabook.org/en/500L/a-python-interpreter-written-in-python.html)\n",
    "\n",
    "Based on Byterun"
   ]
  },
  {
   "cell_type": "markdown",
   "metadata": {},
   "source": [
    "## 1. Building an Interpreter"
   ]
  },
  {
   "cell_type": "markdown",
   "metadata": {},
   "source": [
    "### 1.1 A Tiny Interpreter"
   ]
  },
  {
   "cell_type": "code",
   "execution_count": 2,
   "metadata": {},
   "outputs": [],
   "source": [
    "what_to_execute = {\n",
    "    \"instructions\": [(\"LOAD_VALUE\", 0),  # the first number\n",
    "                     (\"LOAD_VALUE\", 1),  # the second number\n",
    "                     (\"ADD_TWO_VALUES\", None),\n",
    "                     (\"PRINT_ANSWER\", None)],\n",
    "    \"numbers\": [7, 5] }"
   ]
  },
  {
   "cell_type": "markdown",
   "metadata": {},
   "source": [
    "两个数相加\n",
    ">如：7 + 5 = 12"
   ]
  },
  {
   "cell_type": "code",
   "execution_count": 5,
   "metadata": {},
   "outputs": [
    {
     "name": "stdout",
     "output_type": "stream",
     "text": [
      "12\n"
     ]
    }
   ],
   "source": [
    "class Interpreter:\n",
    "    def __init__(self):\n",
    "        self.stack = []  # 用作栈\n",
    "\n",
    "    def LOAD_VALUE(self, number):\n",
    "        self.stack.append(number)\n",
    "\n",
    "    def ADD_TWO_VALUES(self):\n",
    "        first_num = self.stack.pop()\n",
    "        second_num = self.stack.pop()\n",
    "        total = first_num + second_num\n",
    "        self.stack.append(total)\n",
    "        \n",
    "    def PRINT_ANSWER(self):\n",
    "        answer = self.stack.pop()  # 弹出 stack 栈顶值，将赋给 answer\n",
    "        print(answer)\n",
    "\n",
    "    def run_code(self, what_to_execute):\n",
    "        instructions = what_to_execute[\"instructions\"]\n",
    "        numbers = what_to_execute[\"numbers\"]\n",
    "        for each_step in instructions:\n",
    "            instruction, argument = each_step\n",
    "            if instruction == \"LOAD_VALUE\":\n",
    "                number = numbers[argument]\n",
    "                self.LOAD_VALUE(number)  # 调用 class 内部的方法\n",
    "            elif instruction == \"ADD_TWO_VALUES\":\n",
    "                self.ADD_TWO_VALUES()\n",
    "            elif instruction == \"PRINT_ANSWER\":\n",
    "                self.PRINT_ANSWER()\n",
    "\n",
    "what_to_execute = {\n",
    "        \"instructions\": [(\"LOAD_VALUE\", 0),  # the first number\n",
    "                         (\"LOAD_VALUE\", 1),  # the second number\n",
    "                         (\"ADD_TWO_VALUES\", None),\n",
    "                         (\"PRINT_ANSWER\", None)],\n",
    "        \"numbers\": [7, 5]\n",
    "}\n",
    "\n",
    "interpreter = Interpreter()\n",
    "interpreter.run_code(what_to_execute)"
   ]
  },
  {
   "cell_type": "markdown",
   "metadata": {},
   "source": [
    "三个数相加\n",
    ">如：7 + 5 + 8 = 20"
   ]
  },
  {
   "cell_type": "code",
   "execution_count": 6,
   "metadata": {},
   "outputs": [
    {
     "name": "stdout",
     "output_type": "stream",
     "text": [
      "20\n"
     ]
    }
   ],
   "source": [
    "class Interpreter:\n",
    "    def __init__(self):\n",
    "        self.stack = []  # 用作栈\n",
    "\n",
    "    def LOAD_VALUE(self, number):\n",
    "        self.stack.append(number)\n",
    "\n",
    "    def ADD_TWO_VALUES(self):\n",
    "        first_num = self.stack.pop()\n",
    "        second_num = self.stack.pop()\n",
    "        total = first_num + second_num\n",
    "        self.stack.append(total)\n",
    "        \n",
    "    def PRINT_ANSWER(self):\n",
    "        answer = self.stack.pop()  # 弹出 stack 栈顶值，将赋给 answer\n",
    "        print(answer)\n",
    "\n",
    "    def run_code(self, what_to_execute):\n",
    "        instructions = what_to_execute[\"instructions\"]\n",
    "        numbers = what_to_execute[\"numbers\"]\n",
    "        for each_step in instructions:\n",
    "            instruction, argument = each_step\n",
    "            if instruction == \"LOAD_VALUE\":\n",
    "                number = numbers[argument]\n",
    "                self.LOAD_VALUE(number)  # 调用 class 内部的方法\n",
    "            elif instruction == \"ADD_TWO_VALUES\":\n",
    "                self.ADD_TWO_VALUES()\n",
    "            elif instruction == \"PRINT_ANSWER\":\n",
    "                self.PRINT_ANSWER()\n",
    "\n",
    "                \n",
    "what_to_execute = {\n",
    "        \"instructions\": [(\"LOAD_VALUE\", 0),\n",
    "                         (\"LOAD_VALUE\", 1),\n",
    "                         (\"ADD_TWO_VALUES\", None),\n",
    "                         (\"LOAD_VALUE\", 2),\n",
    "                         (\"ADD_TWO_VALUES\", None),\n",
    "                         (\"PRINT_ANSWER\", None)],\n",
    "        \"numbers\": [7, 5, 8] }\n",
    "\n",
    "\n",
    "interpreter = Interpreter()\n",
    "interpreter.run_code(what_to_execute)"
   ]
  },
  {
   "cell_type": "markdown",
   "metadata": {},
   "source": [
    "#### 1.1.1. Variables"
   ]
  },
  {
   "cell_type": "code",
   "execution_count": null,
   "metadata": {},
   "outputs": [],
   "source": [
    "def s():\n",
    "    a = 1\n",
    "    b = 2\n",
    "    print( a + b)\n",
    "\n",
    "# a friendly compiler transforms 's' into:\n",
    "what_to_execute = {\n",
    "    \"instructions\": [(\"LOAD_VALUE\", 0),\n",
    "                     (\"SOTRE_NAME\", 0),\n",
    "                     (\"LOAD_VALUE\", 1),\n",
    "                     (\"STORE_NAME\", 1),\n",
    "                     (\"LOAD_NAME\", 0),\n",
    "                     (\"LAOD_NAME\", 1),\n",
    "                     (\"ADD_TWO_VALUES\", None),\n",
    "                     (\"PRINT_ANSWER\", None)],\n",
    "    \"numbers\": [1, 2],\n",
    "    \"names\": [\"a\", \"b\"]\n",
    "}"
   ]
  },
  {
   "cell_type": "code",
   "execution_count": 8,
   "metadata": {},
   "outputs": [
    {
     "name": "stdout",
     "output_type": "stream",
     "text": [
      "3\n"
     ]
    }
   ],
   "source": [
    "class Interpreter:\n",
    "    def __init__(self):\n",
    "        self.stack = []\n",
    "        self.environment = {}\n",
    "\n",
    "    def STORE_NAME(self, name):\n",
    "        val = self.stack.pop()\n",
    "        self.environment[name] = val\n",
    "\n",
    "    def LOAD_NAME(self, name):\n",
    "        val = self.environment[name]\n",
    "        self.stack.append(val)\n",
    "\n",
    "    def LOAD_VALUE(self, number):\n",
    "        self.stack.append(number)\n",
    "\n",
    "    def PRINT_ANSWER(self):\n",
    "        answer = self.stack.pop()\n",
    "        print(answer)\n",
    "\n",
    "    def ADD_TWO_VALUES(self):\n",
    "        first_num = self.stack.pop()\n",
    "        second_num = self.stack.pop()\n",
    "        total = first_num + second_num\n",
    "        self.stack.append(total)\n",
    "\n",
    "    def parse_argument(self, instruction, argument, what_to_execute):\n",
    "        \"\"\"Understand what the argument to each instruction means.\n",
    "           解析参数：理解这些参数对每条指令的含意\n",
    "        \"\"\"\n",
    "        numbers = [\"LOAD_VALUE\"]\n",
    "        names = [\"LOAD_NAME\", \"STORE_NAME\"]\n",
    "\n",
    "        if instruction in numbers:\n",
    "            argument = what_to_execute[\"numbers\"][argument]\n",
    "        elif instruction in names:\n",
    "            argument = what_to_execute[\"names\"][argument]\n",
    "\n",
    "        return argument\n",
    "\n",
    "    def run_code(self, what_to_execute):\n",
    "        instructions = what_to_execute[\"instructions\"]\n",
    "        for each_step in instructions:\n",
    "            instruction, argument = each_step\n",
    "            argument = self.parse_argument(instruction, argument, what_to_execute)\n",
    "\n",
    "            if instruction == \"LOAD_VALUE\":\n",
    "                self.LOAD_VALUE(argument)\n",
    "            elif instruction == \"ADD_TWO_VALUES\":\n",
    "                self.ADD_TWO_VALUES()\n",
    "            elif instruction == \"PRINT_ANSWER\":\n",
    "                self.PRINT_ANSWER()\n",
    "            elif instruction == \"STORE_NAME\":\n",
    "                self.STORE_NAME(argument)\n",
    "            elif instruction == \"LOAD_NAME\":\n",
    "                self.LOAD_NAME(argument)\n",
    "\n",
    "                \n",
    "what_to_execute = {\n",
    "        \"instructions\": [(\"LOAD_VALUE\", 0),\n",
    "                         (\"STORE_NAME\", 0),\n",
    "                         (\"LOAD_VALUE\", 1),\n",
    "                         (\"STORE_NAME\", 1),\n",
    "                         (\"LOAD_NAME\", 0),\n",
    "                         (\"LOAD_NAME\", 1),\n",
    "                         (\"ADD_TWO_VALUES\", None),\n",
    "                         (\"PRINT_ANSWER\", None)\n",
    "                        ],\n",
    "        \"numbers\": [1, 2],\n",
    "        \"names\": [\"a\", \"b\"]\n",
    "}\n",
    "\n",
    "interpreter = Interpreter()\n",
    "interpreter.run_code(what_to_execute)\n",
    "# interpreter.execute(what_to_execute)"
   ]
  },
  {
   "cell_type": "code",
   "execution_count": 9,
   "metadata": {},
   "outputs": [
    {
     "name": "stdout",
     "output_type": "stream",
     "text": [
      "3\n"
     ]
    }
   ],
   "source": [
    "class Interpreter:\n",
    "    def __init__(self):\n",
    "        self.stack = []\n",
    "        self.environment = {}\n",
    "\n",
    "    def STORE_NAME(self, name):\n",
    "        val = self.stack.pop()\n",
    "        self.environment[name] = val\n",
    "\n",
    "    def LOAD_NAME(self, name):\n",
    "        val = self.environment[name]\n",
    "        self.stack.append(val)\n",
    "\n",
    "    def LOAD_VALUE(self, number):\n",
    "        self.stack.append(number)\n",
    "\n",
    "    def PRINT_ANSWER(self):\n",
    "        answer = self.stack.pop()\n",
    "        print(answer)\n",
    "\n",
    "    def ADD_TWO_VALUES(self):\n",
    "        first_num = self.stack.pop()\n",
    "        second_num = self.stack.pop()\n",
    "        total = first_num + second_num\n",
    "        self.stack.append(total)\n",
    "\n",
    "    def parse_argument(self, instruction, argument, what_to_execute):\n",
    "        \"\"\"Understand what the argument to each instruction means.\n",
    "           解析参数：理解这些参数对每条指令的含意\n",
    "        \"\"\"\n",
    "        numbers = [\"LOAD_VALUE\"]\n",
    "        names = [\"LOAD_NAME\", \"STORE_NAME\"]\n",
    "\n",
    "        if instruction in numbers:\n",
    "            argument = what_to_execute[\"numbers\"][argument]\n",
    "        elif instruction in names:\n",
    "            argument = what_to_execute[\"names\"][argument]\n",
    "\n",
    "        return argument\n",
    "\n",
    "    def execute(self, what_to_execute):\n",
    "        instructions = what_to_execute[\"instructions\"]\n",
    "        for each_step in instructions:\n",
    "            instruction, argument = each_step\n",
    "            argument = self.parse_argument(instruction, argument, what_to_execute)\n",
    "            bytecode_method = getattr(self, instruction)\n",
    "            if argument is None:\n",
    "                bytecode_method()\n",
    "            else:\n",
    "                bytecode_method(argument)\n",
    "\n",
    "                \n",
    "what_to_execute = {\n",
    "        \"instructions\": [(\"LOAD_VALUE\", 0),\n",
    "                         (\"STORE_NAME\", 0),\n",
    "                         (\"LOAD_VALUE\", 1),\n",
    "                         (\"STORE_NAME\", 1),\n",
    "                         (\"LOAD_NAME\", 0),\n",
    "                         (\"LOAD_NAME\", 1),\n",
    "                         (\"ADD_TWO_VALUES\", None),\n",
    "                         (\"PRINT_ANSWER\", None)\n",
    "                        ],\n",
    "        \"numbers\": [1, 2],\n",
    "        \"names\": [\"a\", \"b\"]\n",
    "}\n",
    "\n",
    "interpreter = Interpreter()\n",
    "interpreter.execute(what_to_execute)"
   ]
  },
  {
   "cell_type": "markdown",
   "metadata": {},
   "source": [
    "## 2. Real Python Bytecode"
   ]
  },
  {
   "cell_type": "code",
   "execution_count": 10,
   "metadata": {},
   "outputs": [],
   "source": [
    "def cond():\n",
    "    x = 3\n",
    "    if x < 5:\n",
    "        return \"yes\"\n",
    "    else:\n",
    "        return \"no\""
   ]
  },
  {
   "cell_type": "code",
   "execution_count": 11,
   "metadata": {},
   "outputs": [
    {
     "data": {
      "text/plain": [
       "'yes'"
      ]
     },
     "execution_count": 11,
     "metadata": {},
     "output_type": "execute_result"
    }
   ],
   "source": [
    "cond()"
   ]
  },
  {
   "cell_type": "code",
   "execution_count": 12,
   "metadata": {},
   "outputs": [
    {
     "data": {
      "text/plain": [
       "<code object cond at 0x000001A5ECA856F0, file \"<ipython-input-10-52eacfb91142>\", line 1>"
      ]
     },
     "execution_count": 12,
     "metadata": {},
     "output_type": "execute_result"
    }
   ],
   "source": [
    "cond.__code__"
   ]
  },
  {
   "cell_type": "code",
   "execution_count": 13,
   "metadata": {},
   "outputs": [
    {
     "data": {
      "text/plain": [
       "b'd\\x01}\\x00|\\x00d\\x02k\\x00r\\x10d\\x03S\\x00d\\x04S\\x00d\\x00S\\x00'"
      ]
     },
     "execution_count": 13,
     "metadata": {},
     "output_type": "execute_result"
    }
   ],
   "source": [
    "cond.__code__.co_code"
   ]
  },
  {
   "cell_type": "code",
   "execution_count": 16,
   "metadata": {},
   "outputs": [
    {
     "name": "stdout",
     "output_type": "stream",
     "text": [
      "100, 1, 125, 0, 124, 0, 100, 2, 107, 0, 114, 16, 100, 3, 83, 0, 100, 4, 83, 0, 100, 0, 83, 0, "
     ]
    }
   ],
   "source": [
    "for code in list(cond.__code__.co_code):  # the bytecode as numbers\n",
    "    print(code, end=\", \")"
   ]
  },
  {
   "cell_type": "code",
   "execution_count": 17,
   "metadata": {},
   "outputs": [
    {
     "name": "stdout",
     "output_type": "stream",
     "text": [
      "  2           0 LOAD_CONST               1 (3)\n",
      "              2 STORE_FAST               0 (x)\n",
      "\n",
      "  3           4 LOAD_FAST                0 (x)\n",
      "              6 LOAD_CONST               2 (5)\n",
      "              8 COMPARE_OP               0 (<)\n",
      "             10 POP_JUMP_IF_FALSE       16\n",
      "\n",
      "  4          12 LOAD_CONST               3 ('yes')\n",
      "             14 RETURN_VALUE\n",
      "\n",
      "  6     >>   16 LOAD_CONST               4 ('no')\n",
      "             18 RETURN_VALUE\n",
      "             20 LOAD_CONST               0 (None)\n",
      "             22 RETURN_VALUE\n"
     ]
    }
   ],
   "source": [
    "# module : dis\n",
    "\n",
    "import dis\n",
    "\n",
    "dis.dis(cond)"
   ]
  },
  {
   "cell_type": "code",
   "execution_count": 18,
   "metadata": {},
   "outputs": [
    {
     "data": {
      "text/plain": [
       "'LOAD_CONST'"
      ]
     },
     "execution_count": 18,
     "metadata": {},
     "output_type": "execute_result"
    }
   ],
   "source": [
    "dis.opname[100]"
   ]
  },
  {
   "cell_type": "code",
   "execution_count": 19,
   "metadata": {},
   "outputs": [
    {
     "data": {
      "text/plain": [
       "'STORE_FAST'"
      ]
     },
     "execution_count": 19,
     "metadata": {},
     "output_type": "execute_result"
    }
   ],
   "source": [
    "dis.opname[125]"
   ]
  },
  {
   "cell_type": "markdown",
   "metadata": {},
   "source": [
    "### 2.1 Conditionals and Loops"
   ]
  },
  {
   "cell_type": "code",
   "execution_count": 23,
   "metadata": {},
   "outputs": [],
   "source": [
    "def cond():\n",
    "    x = 3\n",
    "    if x < 5:\n",
    "        return \"yes\"\n",
    "    else:\n",
    "        return \"no\""
   ]
  },
  {
   "cell_type": "code",
   "execution_count": 24,
   "metadata": {},
   "outputs": [
    {
     "name": "stdout",
     "output_type": "stream",
     "text": [
      "  2           0 LOAD_CONST               1 (3)\n",
      "              2 STORE_FAST               0 (x)\n",
      "\n",
      "  3           4 LOAD_FAST                0 (x)\n",
      "              6 LOAD_CONST               2 (5)\n",
      "              8 COMPARE_OP               0 (<)\n",
      "             10 POP_JUMP_IF_FALSE       16\n",
      "\n",
      "  4          12 LOAD_CONST               3 ('yes')\n",
      "             14 RETURN_VALUE\n",
      "\n",
      "  6     >>   16 LOAD_CONST               4 ('no')\n",
      "             18 RETURN_VALUE\n",
      "             20 LOAD_CONST               0 (None)\n",
      "             22 RETURN_VALUE\n"
     ]
    }
   ],
   "source": [
    "dis.dis(cond)"
   ]
  },
  {
   "cell_type": "code",
   "execution_count": 21,
   "metadata": {},
   "outputs": [],
   "source": [
    "def loop():\n",
    "    x = 1\n",
    "    while x < 5:\n",
    "        x = x + 1\n",
    "    return x"
   ]
  },
  {
   "cell_type": "code",
   "execution_count": 22,
   "metadata": {},
   "outputs": [
    {
     "name": "stdout",
     "output_type": "stream",
     "text": [
      "  2           0 LOAD_CONST               1 (1)\n",
      "              2 STORE_FAST               0 (x)\n",
      "\n",
      "  3           4 SETUP_LOOP              20 (to 26)\n",
      "        >>    6 LOAD_FAST                0 (x)\n",
      "              8 LOAD_CONST               2 (5)\n",
      "             10 COMPARE_OP               0 (<)\n",
      "             12 POP_JUMP_IF_FALSE       24\n",
      "\n",
      "  4          14 LOAD_FAST                0 (x)\n",
      "             16 LOAD_CONST               1 (1)\n",
      "             18 BINARY_ADD\n",
      "             20 STORE_FAST               0 (x)\n",
      "             22 JUMP_ABSOLUTE            6\n",
      "        >>   24 POP_BLOCK\n",
      "\n",
      "  5     >>   26 LOAD_FAST                0 (x)\n",
      "             28 RETURN_VALUE\n"
     ]
    }
   ],
   "source": [
    "import dis\n",
    "\n",
    "dis.dis(loop)"
   ]
  },
  {
   "cell_type": "markdown",
   "metadata": {},
   "source": [
    "### 2.2 Explore Bytecode"
   ]
  },
  {
   "cell_type": "code",
   "execution_count": null,
   "metadata": {},
   "outputs": [],
   "source": []
  },
  {
   "cell_type": "code",
   "execution_count": null,
   "metadata": {},
   "outputs": [],
   "source": []
  },
  {
   "cell_type": "markdown",
   "metadata": {},
   "source": [
    "## 3. Frames"
   ]
  },
  {
   "cell_type": "code",
   "execution_count": 6,
   "metadata": {},
   "outputs": [],
   "source": [
    "def bar(y):\n",
    "    z = y + 3   # <--- (3) ... and the interpreter is here.\n",
    "    return z"
   ]
  },
  {
   "cell_type": "code",
   "execution_count": 7,
   "metadata": {},
   "outputs": [],
   "source": [
    "def foo():\n",
    "    a = 1\n",
    "    b = 2\n",
    "    return a + bar(b)  # <--- (2) ... which is returning a call to bar..."
   ]
  },
  {
   "cell_type": "code",
   "execution_count": 8,
   "metadata": {},
   "outputs": [
    {
     "data": {
      "text/plain": [
       "6"
      ]
     },
     "execution_count": 8,
     "metadata": {},
     "output_type": "execute_result"
    }
   ],
   "source": [
    "foo()  # <--- (1) We're in the middle of a call to foo..."
   ]
  },
  {
   "cell_type": "markdown",
   "metadata": {},
   "source": [
    "## 4. Byterun\n",
    "\n",
    "- `VirtualMachine` class\n",
    "- `Frame` class\n",
    "- `Function` class\n",
    "- `Block` class\n",
    "\n",
    "### 4.1 The `VirtualMachine` Class"
   ]
  },
  {
   "cell_type": "code",
   "execution_count": 9,
   "metadata": {},
   "outputs": [],
   "source": [
    "class VirtualMachineError(Exception):\n",
    "    pass\n",
    "\n",
    "class VirtualMachine(object):\n",
    "    def __init__(self):\n",
    "        self.frames = []  # The call stack of frames\n",
    "        self.frame = None  # The current frame\n",
    "        self.return_value = None\n",
    "        self.last_exception = None\n",
    "        \n",
    "    def run_code(self, code, global_names=None, local_name=None):\n",
    "        \"\"\"An entry point to execute code using the virtual machine.\"\"\"\n",
    "        frame = self.make_frame(code, global_names=global_names, local_names=local_names)\n",
    "        self.run_frame(frame)        "
   ]
  },
  {
   "cell_type": "markdown",
   "metadata": {},
   "source": [
    "### 4.2 The `Frame` Class"
   ]
  },
  {
   "cell_type": "code",
   "execution_count": 11,
   "metadata": {},
   "outputs": [],
   "source": [
    "class Frame(object):\n",
    "    def __init__(self, code_obj, global_names, local_names, prev_frame):\n",
    "        self.code_obj = code_obj\n",
    "        self.global_names = global_names\n",
    "        self.local_names = local_names\n",
    "        self.prev_frame = prev_frame\n",
    "        self.stack = []\n",
    "        if prev_frame:\n",
    "            self.builtin_names = prev_frame.builtin_names\n",
    "        else:\n",
    "            self.builtin_names = local_names['__builtins__']\n",
    "            if hasattr(self.builtin_names, '__dict__'):\n",
    "                self.builtin_names = self.builtin_names.__dict__\n",
    "                \n",
    "            self.last_instruction = 0\n",
    "            self.block_stack = []"
   ]
  },
  {
   "cell_type": "code",
   "execution_count": null,
   "metadata": {},
   "outputs": [],
   "source": [
    "class VirtualMachine(object):\n",
    "    def __init__(self):\n",
    "        self.frames = []  # The call stack of frames\n",
    "        self.frame = None  # The current frame\n",
    "        self.return_value = None\n",
    "        self.last_exception = None\n",
    "\n",
    "    def run_code(self, code, global_names=None, local_name=None):\n",
    "        \"\"\"An entry point to execute code using the virtual machine.\"\"\"\n",
    "        frame = self.make_frame(code, global_names=global_names, local_names=local_names)\n",
    "        self.run_frame(frame)\n",
    "\n",
    "    def make_frame(self, code, callargs={}, global_names=None, local_names=None):\n",
    "        if global_names is not None and local_names is not None:\n",
    "            local_names = gloabl_names\n",
    "        elif self.frames:\n",
    "            global_names = self.frame.global_names\n",
    "            local_names = {}\n",
    "        else:\n",
    "            global_names = local_names = {\n",
    "                '__builtins__': __builtins__,\n",
    "                '__name__': '__main__',\n",
    "                '__doc__': None,\n",
    "                '__package__': None,\n",
    "            }\n",
    "        local_names.update(callargs)\n",
    "        frame = Frame(code, global_names, local_names, self.frame)\n",
    "        return frame\n",
    "\n",
    "    def push_frame(self, frame):\n",
    "        self.frames.append(frame)\n",
    "        self.frame = frame\n",
    "\n",
    "    def pop_frame(self):\n",
    "        self.frames.pop()\n",
    "        if self.frames:\n",
    "            self.frame = self.frames[-1]\n",
    "        else:\n",
    "            self.frame = None\n",
    "\n",
    "    def run_frame(self):\n",
    "        pass\n",
    "        # we'll come back to this shortly"
   ]
  },
  {
   "cell_type": "markdown",
   "metadata": {},
   "source": [
    "### 4.3 The `Function` Class"
   ]
  },
  {
   "cell_type": "code",
   "execution_count": 12,
   "metadata": {},
   "outputs": [
    {
     "ename": "ValueError",
     "evalue": "'__doc__' in __slots__ conflicts with class variable",
     "output_type": "error",
     "traceback": [
      "\u001b[1;31m---------------------------------------------------------------------------\u001b[0m",
      "\u001b[1;31mValueError\u001b[0m                                Traceback (most recent call last)",
      "\u001b[1;32m<ipython-input-12-8a9f7a83d5dc>\u001b[0m in \u001b[0;36m<module>\u001b[1;34m\u001b[0m\n\u001b[1;32m----> 1\u001b[1;33m \u001b[1;32mclass\u001b[0m \u001b[0mFunction\u001b[0m\u001b[1;33m(\u001b[0m\u001b[0mobject\u001b[0m\u001b[1;33m)\u001b[0m\u001b[1;33m:\u001b[0m\u001b[1;33m\u001b[0m\u001b[1;33m\u001b[0m\u001b[0m\n\u001b[0m\u001b[0;32m      2\u001b[0m     \"\"\"\n\u001b[0;32m      3\u001b[0m     \u001b[0mCreate\u001b[0m \u001b[0ma\u001b[0m \u001b[0mrealistic\u001b[0m \u001b[0mobject\u001b[0m\u001b[1;33m,\u001b[0m \u001b[0mdefining\u001b[0m \u001b[0mthe\u001b[0m \u001b[0mthings\u001b[0m \u001b[0mthe\u001b[0m \u001b[0minterpreter\u001b[0m \u001b[0mexpects\u001b[0m\u001b[1;33m.\u001b[0m\u001b[1;33m\u001b[0m\u001b[1;33m\u001b[0m\u001b[0m\n\u001b[0;32m      4\u001b[0m     \"\"\"\n\u001b[0;32m      5\u001b[0m     __slots__ = [\n",
      "\u001b[1;31mValueError\u001b[0m: '__doc__' in __slots__ conflicts with class variable"
     ]
    }
   ],
   "source": [
    "class Function(object):\n",
    "    \"\"\"\n",
    "    Create a realistic object, defining the things the interpreter expects.\n",
    "    \"\"\"\n",
    "    __slots__ = [\n",
    "        'func_code', 'func_name', 'func_defaults', 'func_globals',\n",
    "        'func_locals', 'func_dict', 'func_closure',\n",
    "        '__name__', '__dict__', '__doc__',\n",
    "        '_vm', '_func',\n",
    "    ]\n",
    "\n",
    "    def __init__(self, name, code, globs, defaults, closure, vm):\n",
    "        \"\"\"You don't need to follow this closely to understand the interpreter.\"\"\"\n",
    "        self._vm = vm\n",
    "        self.func_code = code\n",
    "        self.func_name = self.__name__ = name or code.co_name\n",
    "        self.func_defaults = tuple(defaults)\n",
    "        self.func_globals = globs\n",
    "        self.func_locals = self._vm.frame.f_locals\n",
    "        self.__dict__ = {}\n",
    "        self.func_closure = closure\n",
    "        self.__doc__ = code.co_consts[0] if code.co_consts else None\n",
    "\n",
    "        # Sometimes, we need a real Python function.  This is for that.\n",
    "        kw = {\n",
    "            'argdefs': self.func_defaults,\n",
    "        }\n",
    "        if closure:\n",
    "            kw['closure'] = tuple(make_cell(0) for _ in closure)\n",
    "        self._func = types.FunctionType(code, globs, **kw)\n",
    "\n",
    "    def __call__(self, *args, **kwargs):\n",
    "        \"\"\"When calling a Function, make a new frame and run it.\"\"\"\n",
    "        callargs = inspect.getcallargs(self._func, *args, **kwargs)\n",
    "        # Use callargs to provide a mapping of arguments: values to pass into the new frame.\n",
    "        frame = self._vm.make_frame(\n",
    "            self.func_code, callargs, self.func_globals, {}\n",
    "        )\n",
    "        return self._vm.run_frame(frame)\n",
    "\n",
    "    def make_cell(value):\n",
    "        \"\"\"Create a real Python closure and grab a cell.\"\"\"\n",
    "        # Thanks to Alex Gaynor for help with this bit of twistiness\n",
    "        fn = (lambda x: lambda: x)(value)\n",
    "        return fn.__closure__[0]"
   ]
  },
  {
   "cell_type": "code",
   "execution_count": null,
   "metadata": {},
   "outputs": [],
   "source": [
    "class VirtualMachine(object):\n",
    "    def __init__(self):\n",
    "        self.frames = []  # The call stack of frames\n",
    "        self.frame = None  # The current frame\n",
    "        self.return_value = None\n",
    "        self.last_exception = None\n",
    "\n",
    "    def run_code(self, code, global_names=None, local_name=None):\n",
    "        \"\"\"An entry point to execute code using the virtual machine.\"\"\"\n",
    "        frame = self.make_frame(code, global_names=global_names, local_names=local_names)\n",
    "        self.run_frame(frame)\n",
    "\n",
    "    def make_frame(self, code, callargs={}, global_names=None, local_names=None):\n",
    "        if global_names is not None and local_names is not None:\n",
    "            local_names = gloabl_names\n",
    "        elif self.frames:\n",
    "            global_names = self.frame.global_names\n",
    "            local_names = {}\n",
    "        else:\n",
    "            global_names = local_names = {\n",
    "                '__builtins__': __builtins__,\n",
    "                '__name__': '__main__',\n",
    "                '__doc__': None,\n",
    "                '__package__': None,\n",
    "            }\n",
    "        local_names.update(callargs)\n",
    "        frame = Frame(code, global_names, local_names, self.frame)\n",
    "        return frame\n",
    "\n",
    "    def push_frame(self, frame):\n",
    "        self.frames.append(frame)\n",
    "        self.frame = frame\n",
    "\n",
    "    def pop_frame(self):\n",
    "        self.frames.pop()\n",
    "        if self.frames:\n",
    "            self.frame = self.frames[-1]\n",
    "        else:\n",
    "            self.frame = None\n",
    "\n",
    "    def run_frame(self):\n",
    "        pass\n",
    "    \n",
    "    # ===================== new add =========================\n",
    "    # Data stack manipulation\n",
    "    def top(self):\n",
    "        return self.frame.stack[-1]\n",
    "\n",
    "    def pop(self):\n",
    "        return self.frame.stack.pop()\n",
    "\n",
    "    def push(self, *vals):\n",
    "        self.frame.stack.extend(vals)\n",
    "\n",
    "    def popn(self, n):\n",
    "        \"\"\"Pop a number of values from the value stack.\n",
    "        A list of 'n' values is returned, the deepest value first.\n",
    "        \"\"\"\n",
    "        if n:\n",
    "            ret = self.frame.stack[-n:]\n",
    "            self.frame.stack[-n:] = []\n",
    "            return ret\n",
    "        else:\n",
    "            return []"
   ]
  },
  {
   "cell_type": "code",
   "execution_count": 14,
   "metadata": {},
   "outputs": [],
   "source": [
    "class VirtualMachine(object):\n",
    "    def __init__(self):\n",
    "        self.frames = []  # The call stack of frames\n",
    "        self.frame = None  # The current frame\n",
    "        self.return_value = None\n",
    "        self.last_exception = None\n",
    "\n",
    "    def run_code(self, code, global_names=None, local_name=None):\n",
    "        \"\"\"An entry point to execute code using the virtual machine.\"\"\"\n",
    "        frame = self.make_frame(code, global_names=global_names, local_names=local_names)\n",
    "        self.run_frame(frame)\n",
    "\n",
    "    def make_frame(self, code, callargs={}, global_names=None, local_names=None):\n",
    "        if global_names is not None and local_names is not None:\n",
    "            local_names = gloabl_names\n",
    "        elif self.frames:\n",
    "            global_names = self.frame.global_names\n",
    "            local_names = {}\n",
    "        else:\n",
    "            global_names = local_names = {\n",
    "                '__builtins__': __builtins__,\n",
    "                '__name__': '__main__',\n",
    "                '__doc__': None,\n",
    "                '__package__': None,\n",
    "            }\n",
    "        local_names.update(callargs)\n",
    "        frame = Frame(code, global_names, local_names, self.frame)\n",
    "        return frame\n",
    "\n",
    "    def push_frame(self, frame):\n",
    "        self.frames.append(frame)\n",
    "        self.frame = frame\n",
    "\n",
    "    def pop_frame(self):\n",
    "        self.frames.pop()\n",
    "        if self.frames:\n",
    "            self.frame = self.frames[-1]\n",
    "        else:\n",
    "            self.frame = None\n",
    "\n",
    "    def run_frame(self):\n",
    "        pass\n",
    "\n",
    "    # Data stack manipulation\n",
    "    def top(self):\n",
    "        return self.frame.stack[-1]\n",
    "\n",
    "    def pop(self):\n",
    "        return self.frame.stack.pop()\n",
    "\n",
    "    def push(self, *vals):\n",
    "        self.frame.stack.extend(vals)\n",
    "\n",
    "    def popn(self, n):\n",
    "        \"\"\"Pop a number of values from the value stack.\n",
    "        A list of 'n' values is returned, the deepest value first.\n",
    "        \"\"\"\n",
    "        if n:\n",
    "            ret = self.frame.stack[-n:]\n",
    "            self.frame.stack[-n:] = []\n",
    "            return ret\n",
    "        else:\n",
    "            return []\n",
    "        \n",
    "    # ================ new add ======================\n",
    "    def parse_byte_and_args(self):\n",
    "        f = self.frame\n",
    "        opoffset = f.last_instruction\n",
    "        byteCode = f.code_obj.co_code[opoffset]\n",
    "        f.last_instruction += 1\n",
    "        byte_name = dis.opname[byteCode]\n",
    "        if byteCode >= dis.HAVE_ARGUMENT:\n",
    "            # index into the bytecode\n",
    "            arg = f.code_obj.co_code[f.last_instruction: f.last_instruction + 2]\n",
    "            f.last_instruction += 2  # advance the instruction pointer\n",
    "            arg_val = arg[0] + (arg[1] * 256)\n",
    "            if byteCode in dis.hasconst:  # Look up a constant\n",
    "                arg = f.code_obj.co_consts[arg_val]\n",
    "            elif byteCode in dis.hasname:  # Look up a name\n",
    "                arg = f.code_obj.co_names[arg_val]\n",
    "            elif byteCode in dis.haslocal:  # Look up a local name\n",
    "                arg = f.code_obj.co_varnames[arg_val]\n",
    "            elif byteCode in dis.hasjrel:  # Calculate a relative jump\n",
    "                arg = f.last_instruction + arg_val\n",
    "            else:\n",
    "                arg = arg_val\n",
    "            argument = [arg]\n",
    "        else:\n",
    "            argument = []\n",
    "\n",
    "        return byte_name, argument"
   ]
  },
  {
   "cell_type": "code",
   "execution_count": null,
   "metadata": {},
   "outputs": [],
   "source": [
    "class VirtualMachine(object):\n",
    "    def __init__(self):\n",
    "        self.frames = []  # The call stack of frames\n",
    "        self.frame = None  # The current frame\n",
    "        self.return_value = None\n",
    "        self.last_exception = None\n",
    "\n",
    "    def run_code(self, code, global_names=None, local_name=None):\n",
    "        \"\"\"An entry point to execute code using the virtual machine.\"\"\"\n",
    "        frame = self.make_frame(code, global_names=global_names, local_names=local_names)\n",
    "        self.run_frame(frame)\n",
    "\n",
    "    def make_frame(self, code, callargs={}, global_names=None, local_names=None):\n",
    "        if global_names is not None and local_names is not None:\n",
    "            local_names = gloabl_names\n",
    "        elif self.frames:\n",
    "            global_names = self.frame.global_names\n",
    "            local_names = {}\n",
    "        else:\n",
    "            global_names = local_names = {\n",
    "                '__builtins__': __builtins__,\n",
    "                '__name__': '__main__',\n",
    "                '__doc__': None,\n",
    "                '__package__': None,\n",
    "            }\n",
    "        local_names.update(callargs)\n",
    "        frame = Frame(code, global_names, local_names, self.frame)\n",
    "        return frame\n",
    "\n",
    "    def push_frame(self, frame):\n",
    "        self.frames.append(frame)\n",
    "        self.frame = frame\n",
    "\n",
    "    def pop_frame(self):\n",
    "        self.frames.pop()\n",
    "        if self.frames:\n",
    "            self.frame = self.frames[-1]\n",
    "        else:\n",
    "            self.frame = None\n",
    "\n",
    "    # def run_frame(self):  # 在后面声明\n",
    "    #     pass\n",
    "\n",
    "    # Data stack manipulation\n",
    "    def top(self):\n",
    "        return self.frame.stack[-1]\n",
    "\n",
    "    def pop(self):\n",
    "        return self.frame.stack.pop()\n",
    "\n",
    "    def push(self, *vals):\n",
    "        self.frame.stack.extend(vals)\n",
    "\n",
    "    def popn(self, n):\n",
    "        \"\"\"Pop a number of values from the value stack.\n",
    "        A list of 'n' values is returned, the deepest value first.\n",
    "        \"\"\"\n",
    "        if n:\n",
    "            ret = self.frame.stack[-n:]\n",
    "            self.frame.stack[-n:] = []\n",
    "            return ret\n",
    "        else:\n",
    "            return []\n",
    "\n",
    "    def parse_byte_and_args(self):\n",
    "        f = self.frame\n",
    "        opoffset = f.last_instruction\n",
    "        byteCode = f.code_obj.co_code[opoffset]\n",
    "        f.last_instruction += 1\n",
    "        byte_name = dis.opname[byteCode]\n",
    "        if byteCode >= dis.HAVE_ARGUMENT:\n",
    "            # index into the bytecode\n",
    "            arg = f.code_obj.co_code[f.last_instruction: f.last_instruction + 2]\n",
    "            f.last_instruction += 2  # advance the instruction pointer\n",
    "            arg_val = arg[0] + (arg[1] * 256)\n",
    "            if byteCode in dis.hasconst:  # Look up a constant\n",
    "                arg = f.code_obj.co_consts[arg_val]\n",
    "            elif byteCode in dis.hasname:  # Look up a name\n",
    "                arg = f.code_obj.co_names[arg_val]\n",
    "            elif byteCode in dis.haslocal:  # Look up a local name\n",
    "                arg = f.code_obj.co_varnames[arg_val]\n",
    "            elif byteCode in dis.hasjrel:  # Calculate a relative jump\n",
    "                arg = f.last_instruction + arg_val\n",
    "            else:\n",
    "                arg = arg_val\n",
    "            argument = [arg]\n",
    "        else:\n",
    "            argument = []\n",
    "\n",
    "        return byte_name, argument\n",
    "\n",
    "    # ================= new add ==================\n",
    "    def dispath(self, byte_name, argument):\n",
    "        \"\"\"Dispath by bytenames to the corresponding methods.\n",
    "        Exception are caught and set on the virtual machine.\"\"\"\n",
    "        # When later unwinding the block stack,\n",
    "        # we need to keep track of why we are doing it.\n",
    "        why = None\n",
    "        try:\n",
    "            bytecode_fn = getattr(self, 'byte_%s' % byte_name, None)\n",
    "            if bytecode_fn is None:\n",
    "                if byte_name.startswith(\"UNARY_\"):\n",
    "                    self.unaryOperator(byte_name[6:])\n",
    "                elif byte_name.startswith(\"BINARY_\"):\n",
    "                    self.binaryOperator(byte_name[7:])\n",
    "                else:\n",
    "                    raise VirtualMachineError(\n",
    "                        \"unsupported bytecode type: %s\" % byte_name\n",
    "                    )\n",
    "            else:\n",
    "                why = bytecode_fn(*argument)\n",
    "        except:\n",
    "            # deal with exceptions encountered while executing the op.\n",
    "            self.last_exception = sys.exc_info()[:2] + (None,)\n",
    "            why = 'exception'\n",
    "\n",
    "        return why\n",
    "\n",
    "    def run_frame(self, frame):\n",
    "        \"\"\"Run a frame until it returns (somehow).\n",
    "        Exceptions are raised, the return value is returned.\n",
    "        \"\"\"\n",
    "        self.push_frame(frame)\n",
    "        while True:\n",
    "            byte_name, arguments = self.parse_byte_and_args()\n",
    "\n",
    "            why = self.dispath(byte_name, arguments)\n",
    "\n",
    "            # Deal with any block management we need to do\n",
    "            while why and frame.block_stack:\n",
    "                why = self.manage_block_stack(why)\n",
    "\n",
    "            if why:\n",
    "                break\n",
    "\n",
    "        self.pop_frame()\n",
    "\n",
    "        if why == \"exception\":\n",
    "            exc, val, tb = self.last_exception\n",
    "            e = exc(val)\n",
    "            e.__traceback__ = tb\n",
    "            raise e\n",
    "\n",
    "        return self.return_value"
   ]
  },
  {
   "cell_type": "markdown",
   "metadata": {},
   "source": [
    "### 4.4 The `Block` Class"
   ]
  },
  {
   "cell_type": "code",
   "execution_count": 15,
   "metadata": {},
   "outputs": [],
   "source": [
    "class VirtualMachine(object):\n",
    "    # Block stack manipulation\n",
    "    def push_block(self, b_type, handler=None):\n",
    "        stack_height = len(self.frame.stack)\n",
    "        self.frame.block_stack.append(Block(b_type, handler, stack_height))\n",
    "\n",
    "    def pop_block(self):\n",
    "        return self.frame.block_stack.pop()\n",
    "\n",
    "    def unwind_block(self, block):\n",
    "        \"\"\"Unwind the values on the data stack corresponding to a given block.\"\"\"\n",
    "        if block.type == \"except-handler\":\n",
    "            # The exception itself is on the stack as type, value, and traceback.\n",
    "            offset = 3\n",
    "        else:\n",
    "            offset = 0\n",
    "\n",
    "        while len(self.frame.stack) > block.level + offset:\n",
    "            self.pop()\n",
    "\n",
    "        if block.tpe == \"except-handler\":\n",
    "            traceback, value, exctype = self.popn(3)\n",
    "            self.last_exception = exctype, value, traceback\n",
    "\n",
    "    def manage_block_stack(self, why):\n",
    "        frame = self.frame\n",
    "        block = frame.block_stack[-1]\n",
    "        if block.type == 'loop' and why == 'continue':\n",
    "            self.jump(self.return_value)\n",
    "            why = None\n",
    "            return why\n",
    "\n",
    "        self.pop_block()\n",
    "        self.unwind_block(block)\n",
    "\n",
    "        if block.type == 'loop' and why == 'break':\n",
    "            why = None\n",
    "            self.jump(block.handler)\n",
    "            return why\n",
    "\n",
    "        if block.type in ['setup-except', 'finally'] and why == 'exception':\n",
    "            self.push_block('except-handler')\n",
    "            exctype, value, tb = self.last_exception\n",
    "            self.push(tb, value, exctype)\n",
    "            self.push(tb, value, exctype)  # yes, twice\n",
    "            why = None\n",
    "            self.jump(block.handler)\n",
    "            return why\n",
    "\n",
    "        elif block.type == 'finally':\n",
    "            if why in ('return', 'continue'):\n",
    "                self.push(self.return_value)\n",
    "\n",
    "            self.push(why)\n",
    "\n",
    "            why = None\n",
    "            self.jump(block.handler)\n",
    "            return why\n",
    "        return why"
   ]
  },
  {
   "cell_type": "markdown",
   "metadata": {},
   "source": [
    "## 5. The Instructions"
   ]
  },
  {
   "cell_type": "code",
   "execution_count": 3,
   "metadata": {},
   "outputs": [],
   "source": [
    "import operator\n",
    "\n",
    "class VirtualMachine(object):\n",
    "#     [... snip ...]\n",
    "    ## stack manipulation\n",
    "\n",
    "    def byte_LOAD_CONST(self, const):\n",
    "        self.push(const)\n",
    "\n",
    "    def byte_POP_TOP(self):\n",
    "        self.pop()\n",
    "\n",
    "    ## Names\n",
    "\n",
    "    def byte_LOAD_NAMES(self, name):\n",
    "        frame = self.frame\n",
    "        if name in frame.f_locals:\n",
    "            val = frame.f_locals[name]\n",
    "        elif name in frame.f_globals:\n",
    "            val = frame.f_globals[name]\n",
    "        elif name in frame.f_builtins:\n",
    "            val = frame.f_builtins[name]\n",
    "        else:\n",
    "            raise NameError(\"name '%s' is not defined\" % name)\n",
    "        self.push(val)\n",
    "\n",
    "    def byte_STORE_NAME(self, name):\n",
    "        self.frame.f_locals[name] = self.pop()\n",
    "\n",
    "    def byte_LOAD_FAST(self, name):\n",
    "        if name in self.frame.f_locals:\n",
    "            val = self.frame.f_locals[name]\n",
    "        else:\n",
    "            raise UnboundLocalError(\n",
    "                \"local variable '%s' referenced before assignment\" % name\n",
    "            )\n",
    "        self.push(val)\n",
    "\n",
    "    def byte_STORE_FAST(self, name):\n",
    "        self.frame.f_locals[name] = self.pop()\n",
    "\n",
    "    def byte_LOAD_GLOBAL(self, name):\n",
    "        f = self.frame\n",
    "        if name in f.f_globals:\n",
    "            val = f.f_globals[name]\n",
    "        elif name in f.f_builtins:\n",
    "            val = f.f_builtins[name]\n",
    "        else:\n",
    "            raise NameError(\"global name '%s' is not defined\" % name)\n",
    "        self.push(val)\n",
    "\n",
    "    ## Operators\n",
    "\n",
    "    BINARY_OPERATORS = {\n",
    "        \"POWER\": pow,\n",
    "        \"MULTIPLY\": operator.mul,\n",
    "        \"FLOOR_DIVIDE\": operator.floordiv,\n",
    "        \"TRUE_DIVIDE\": operator.truediv,\n",
    "        \"MODULO\": operator.mod,\n",
    "        \"ADD\": operator.add,\n",
    "        \"SUBTRACT\": operator.sub,\n",
    "        \"SUBSCR\": operator.getitem,\n",
    "        \"LSHIFT\": operator.lshift,\n",
    "        \"RSHIFT\": operator.rshift,\n",
    "        \"AND\": operator.and_,\n",
    "        \"XOR\": operator.xor,\n",
    "        \"OR\": operator.or_,\n",
    "    }\n",
    "\n",
    "    def binaryOperator(self, op):\n",
    "        x, y = self.popn(2)\n",
    "        self.push(self.BINARY_OPERATORS[op](x, y))\n",
    "\n",
    "    COMPARE_OPERATORS = {\n",
    "        operator.lt,\n",
    "        operator.le,\n",
    "        operator.eq,\n",
    "        operator.ne,\n",
    "        operator.gt,\n",
    "        operator.ge,\n",
    "        lambda x, y: x in y,\n",
    "        lambda x, y: x not in y,\n",
    "        lambda x, y: x is y,\n",
    "        lambda x, y: x is not y,\n",
    "        lambda x, y: issubclass(x, Exception) and issubclass(x, y)\n",
    "    }\n",
    "\n",
    "    def byte_COMPARE_OP(self, opnum):\n",
    "        x, y = self.popn(2)\n",
    "        self.push(self.COMPARE_OPERATORS[opnum](x, y))\n",
    "\n",
    "    ## Attributes and indexing\n",
    "\n",
    "    def byte_LOAD_ATTR(self, attr):\n",
    "        obj = self.pop()\n",
    "        val = getattr(obj, attr)\n",
    "        self.push(val)\n",
    "\n",
    "    def byte_STORE_ATTR(self, name):\n",
    "        val, obj = self.popn(2)\n",
    "        setattr(obj, name, val)\n",
    "\n",
    "    ## Building\n",
    "\n",
    "    def byte_BUILD_LIST(self, count):\n",
    "        elts = self.popn(count)\n",
    "        self.push(elts)\n",
    "\n",
    "    def byte_BUILD_MAP(self, size):\n",
    "        self.push({})\n",
    "\n",
    "    def byte_STORE_MAP(self):\n",
    "        the_map, val, key = self.popn(3)\n",
    "        the_map[key] = val\n",
    "        self.push(the_map)\n",
    "\n",
    "    def byte_LIST_APPEND(self, count):\n",
    "        val = self.pop()\n",
    "        the_list = self.frame.stack[-count]  # peek\n",
    "        the_list.append(val)\n",
    "\n",
    "    ## Jumps\n",
    "\n",
    "    def byte_JUMP_FORWARD(self, jump):\n",
    "        self.jump(jump)\n",
    "\n",
    "    def byte_JUMP_ABSOLUTE(self, jump):\n",
    "        self.jump(jump)\n",
    "\n",
    "    def byte_POP_JUMP_IF_TRUE(self, jump):\n",
    "        val = self.pop()\n",
    "        if val:\n",
    "            self.jump(jump)\n",
    "\n",
    "    def byte_POP_JUMP_IF_FALSE(self, jump):\n",
    "        val = self.pop()\n",
    "        if not val:\n",
    "            self.jump(jump)\n",
    "\n",
    "    ## Blocks\n",
    "\n",
    "    def byte_SETUP_LOOP(self, dest):\n",
    "        self.push_block('loop', dest)\n",
    "\n",
    "    def byte_GET_ITER(self):\n",
    "        self.push(iter(self.pop()))\n",
    "\n",
    "    def byte_FOR_ITER(self, jump):\n",
    "        iterobj = self.top()\n",
    "        try:\n",
    "            v = next(iterobj)\n",
    "            self.push(v)\n",
    "        except StopIteration:\n",
    "            self.pop()\n",
    "            self.jump(jump)\n",
    "\n",
    "    def byte_BREAK_LOOP(self):\n",
    "        return \"break\"\n",
    "\n",
    "    def byte_POP_BLOCK(self):\n",
    "        self.pop_block()\n",
    "\n",
    "    ## Functions\n",
    "\n",
    "    def byte_MAKE_FUNCTION(self, argc):\n",
    "        name = self.pop()\n",
    "        code = self.pop()\n",
    "        defaults = self.popn(argc)\n",
    "        globs = self.frame.f_globals\n",
    "        fn = Function(name, code, globs, defaults, None, self)\n",
    "        self.push(fn)\n",
    "\n",
    "    def byte_CALL_FUNCTION(self, arg):\n",
    "        lenKw, lenPos = divmod(arg, 256)  # KWargs not supported here\n",
    "        posargs = self.popn(lenPos)\n",
    "\n",
    "        func = self.pop()\n",
    "        frame = self.frame\n",
    "        retval = func(*posargs)\n",
    "        self.push(retval)\n",
    "\n",
    "    def byte_RETURN_VALUE(self):\n",
    "        self.return_value = self.pop()\n",
    "        return \"return\""
   ]
  },
  {
   "cell_type": "markdown",
   "metadata": {},
   "source": [
    "## 6. Dynamic Typing: What the Compiler Doesn't Know"
   ]
  },
  {
   "cell_type": "code",
   "execution_count": 4,
   "metadata": {},
   "outputs": [],
   "source": [
    "import dis\n",
    "\n",
    "def mod(a, b):\n",
    "    return a % b"
   ]
  },
  {
   "cell_type": "code",
   "execution_count": 5,
   "metadata": {},
   "outputs": [
    {
     "name": "stdout",
     "output_type": "stream",
     "text": [
      "  4           0 LOAD_FAST                0 (a)\n",
      "              2 LOAD_FAST                1 (b)\n",
      "              4 BINARY_MODULO\n",
      "              6 RETURN_VALUE\n"
     ]
    }
   ],
   "source": [
    "dis.dis(mod)"
   ]
  },
  {
   "cell_type": "code",
   "execution_count": 6,
   "metadata": {},
   "outputs": [
    {
     "data": {
      "text/plain": [
       "4"
      ]
     },
     "execution_count": 6,
     "metadata": {},
     "output_type": "execute_result"
    }
   ],
   "source": [
    "mod(19, 5)"
   ]
  },
  {
   "cell_type": "code",
   "execution_count": 8,
   "metadata": {},
   "outputs": [
    {
     "data": {
      "text/plain": [
       "'bytecode'"
      ]
     },
     "execution_count": 8,
     "metadata": {},
     "output_type": "execute_result"
    }
   ],
   "source": [
    "mod(\"by%sde\", \"teco\")"
   ]
  },
  {
   "cell_type": "code",
   "execution_count": 9,
   "metadata": {},
   "outputs": [
    {
     "name": "stdout",
     "output_type": "stream",
     "text": [
      "bytecode\n"
     ]
    }
   ],
   "source": [
    "print(\"by%sde\" % \"teco\")"
   ]
  },
  {
   "cell_type": "code",
   "execution_count": null,
   "metadata": {},
   "outputs": [],
   "source": []
  },
  {
   "cell_type": "code",
   "execution_count": null,
   "metadata": {},
   "outputs": [],
   "source": []
  },
  {
   "cell_type": "code",
   "execution_count": null,
   "metadata": {},
   "outputs": [],
   "source": []
  },
  {
   "cell_type": "code",
   "execution_count": null,
   "metadata": {},
   "outputs": [],
   "source": []
  },
  {
   "cell_type": "code",
   "execution_count": null,
   "metadata": {},
   "outputs": [],
   "source": []
  },
  {
   "cell_type": "code",
   "execution_count": null,
   "metadata": {},
   "outputs": [],
   "source": []
  },
  {
   "cell_type": "code",
   "execution_count": null,
   "metadata": {},
   "outputs": [],
   "source": []
  },
  {
   "cell_type": "code",
   "execution_count": null,
   "metadata": {},
   "outputs": [],
   "source": []
  },
  {
   "cell_type": "code",
   "execution_count": null,
   "metadata": {},
   "outputs": [],
   "source": []
  },
  {
   "cell_type": "code",
   "execution_count": null,
   "metadata": {},
   "outputs": [],
   "source": []
  },
  {
   "cell_type": "code",
   "execution_count": null,
   "metadata": {},
   "outputs": [],
   "source": []
  },
  {
   "cell_type": "code",
   "execution_count": null,
   "metadata": {},
   "outputs": [],
   "source": []
  },
  {
   "cell_type": "code",
   "execution_count": null,
   "metadata": {},
   "outputs": [],
   "source": []
  },
  {
   "cell_type": "code",
   "execution_count": null,
   "metadata": {},
   "outputs": [],
   "source": []
  },
  {
   "cell_type": "code",
   "execution_count": null,
   "metadata": {},
   "outputs": [],
   "source": []
  },
  {
   "cell_type": "code",
   "execution_count": null,
   "metadata": {},
   "outputs": [],
   "source": []
  },
  {
   "cell_type": "code",
   "execution_count": null,
   "metadata": {},
   "outputs": [],
   "source": []
  },
  {
   "cell_type": "code",
   "execution_count": null,
   "metadata": {},
   "outputs": [],
   "source": []
  },
  {
   "cell_type": "code",
   "execution_count": null,
   "metadata": {},
   "outputs": [],
   "source": []
  },
  {
   "cell_type": "code",
   "execution_count": null,
   "metadata": {},
   "outputs": [],
   "source": []
  },
  {
   "cell_type": "code",
   "execution_count": null,
   "metadata": {},
   "outputs": [],
   "source": []
  },
  {
   "cell_type": "code",
   "execution_count": null,
   "metadata": {},
   "outputs": [],
   "source": []
  },
  {
   "cell_type": "code",
   "execution_count": null,
   "metadata": {},
   "outputs": [],
   "source": []
  },
  {
   "cell_type": "code",
   "execution_count": null,
   "metadata": {},
   "outputs": [],
   "source": []
  },
  {
   "cell_type": "code",
   "execution_count": null,
   "metadata": {},
   "outputs": [],
   "source": []
  },
  {
   "cell_type": "code",
   "execution_count": null,
   "metadata": {},
   "outputs": [],
   "source": []
  },
  {
   "cell_type": "code",
   "execution_count": null,
   "metadata": {},
   "outputs": [],
   "source": []
  }
 ],
 "metadata": {
  "kernelspec": {
   "display_name": "Python 3",
   "language": "python",
   "name": "python3"
  },
  "language_info": {
   "codemirror_mode": {
    "name": "ipython",
    "version": 3
   },
   "file_extension": ".py",
   "mimetype": "text/x-python",
   "name": "python",
   "nbconvert_exporter": "python",
   "pygments_lexer": "ipython3",
   "version": "3.7.4"
  }
 },
 "nbformat": 4,
 "nbformat_minor": 2
}
